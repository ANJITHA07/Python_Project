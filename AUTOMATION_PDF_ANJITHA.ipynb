{
 "cells": [
  {
   "cell_type": "code",
   "execution_count": 1,
   "id": "35563c22",
   "metadata": {},
   "outputs": [
    {
     "name": "stdout",
     "output_type": "stream",
     "text": [
      "['one.pdf', 'three.pdf', 'two.pdf']\n",
      "one.pdf\n",
      "three.pdf\n",
      "two.pdf\n"
     ]
    }
   ],
   "source": [
    "import PyPDF2\n",
    "import tkinter\n",
    "from tkinter import filedialog\n",
    "import os\n",
    "import sqlite3\n",
    "from datetime import datetime\n",
    "from datetime import timedelta\n",
    "folder_list = os.listdir(r\"C:\\Users\\anjitha.thayath\\5tha\")\n",
    "print(folder_list)\n",
    "\n",
    "\n",
    "for files in folder_list:\n",
    "    if files.endswith('.pdf'):\n",
    "        \n",
    "        print(files)\n",
    "        file_path = os.path.join(r\"C:\\Users\\anjitha.thayath\\5tha\",files)\n",
    "        pdf_in_file = open(file_path, 'rb')\n",
    "        inputpdf = PyPDF2.PdfFileReader(pdf_in_file)\n",
    "        if not inputpdf.isEncrypted:\n",
    "            page_no = inputpdf.numPages\n",
    "            output = PyPDF2.PdfFileWriter()\n",
    "            for i in range(page_no):\n",
    "                inputpdf = PyPDF2.PdfFileReader(pdf_in_file)\n",
    "                from datetime import datetime\n",
    "                current_time = datetime.now().replace(microsecond = 0)\n",
    "                current_time = datetime.strftime(current_time,\"%y_%m_%d_%H_%M_%S\")\n",
    "                output.addPage(inputpdf.getPage(i))\n",
    "                output.encrypt(files[:-4] + current_time)\n",
    "                \n",
    "                output_file_name = \"enc_pdf\" + files[:-4] + current_time + \".pdf\"\n",
    "                output_file_path = os.path.join(r\"C:\\Users\\anjitha.thayath\\5tha\",output_file_name)\n",
    "            with open(output_file_path, \"wb\") as outputStream:\n",
    "                output.write(outputStream)\n",
    "            with open(r\"C:\\Users\\anjitha.thayath\\5tha\\Password.txt\",\"a\") as file_obj:\n",
    "                    file_obj.write(files)\n",
    "                    password = files[:-4] + current_time\n",
    "                    file_obj.write(password)\n",
    "                    file_obj.write(\"\\n___________________________________________\\n\")\n",
    "           "
   ]
  },
  {
   "cell_type": "code",
   "execution_count": null,
   "id": "ad86a2d4",
   "metadata": {},
   "outputs": [],
   "source": []
  }
 ],
 "metadata": {
  "kernelspec": {
   "display_name": "Python 3",
   "language": "python",
   "name": "python3"
  },
  "language_info": {
   "codemirror_mode": {
    "name": "ipython",
    "version": 3
   },
   "file_extension": ".py",
   "mimetype": "text/x-python",
   "name": "python",
   "nbconvert_exporter": "python",
   "pygments_lexer": "ipython3",
   "version": "3.8.8"
  }
 },
 "nbformat": 4,
 "nbformat_minor": 5
}
